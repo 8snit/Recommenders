{
 "cells": [
  {
   "cell_type": "code",
   "execution_count": 1,
   "metadata": {},
   "outputs": [
    {
     "data": {
      "text/html": [
       "<style scoped>\n",
       "  .ansiout {\n",
       "    display: block;\n",
       "    unicode-bidi: embed;\n",
       "    white-space: pre-wrap;\n",
       "    word-wrap: break-word;\n",
       "    word-break: break-all;\n",
       "    font-family: \"Source Code Pro\", \"Menlo\", monospace;;\n",
       "    font-size: 13px;\n",
       "    color: #555;\n",
       "    margin-left: 4px;\n",
       "    line-height: 19px;\n",
       "  }\n",
       "</style>\n",
       "<div class=\"ansiout\">SDK version: 1.0.18\n",
       "Your username is nikhilj\n",
       "</div>"
      ]
     },
     "metadata": {},
     "output_type": "display_data"
    }
   ],
   "source": [
    "import sys, os\n",
    "sys.path.append(\"../../\")\n",
    "import pandas as pd\n",
    "import category_encoders as ce\n",
    "from tempfile import TemporaryDirectory\n",
    "import uuid\n",
    "import logging\n",
    "\n",
    "import reco_utils.recommender.lightgbm.lightgbm_utils as lgb_utils\n",
    "import reco_utils.dataset.criteo as criteo\n",
    "\n",
    "import azureml.core\n",
    "\n",
    "from azureml.core.experiment import Experiment\n",
    "from azureml.core.workspace import Workspace\n",
    "from azureml.train.automl import AutoMLConfig\n",
    "from azureml.train.automl.run import AutoMLRun\n",
    "import azureml.dataprep as dprep\n",
    "\n",
    "# Check core SDK version number - based on build number of preview/master.\n",
    "print(\"SDK version:\", azureml.core.VERSION)\n",
    "\n",
    "username = dbutils.notebook.entry_point.getDbutils().notebook().getContext().tags().apply('user').split(\"@\")[0]\n",
    "print(\"Your username is {0}\".format(username))"
   ]
  },
  {
   "cell_type": "code",
   "execution_count": 2,
   "metadata": {},
   "outputs": [
    {
     "data": {
      "text/html": [
       "<style scoped>\n",
       "  .ansiout {\n",
       "    display: block;\n",
       "    unicode-bidi: embed;\n",
       "    white-space: pre-wrap;\n",
       "    word-wrap: break-word;\n",
       "    word-break: break-all;\n",
       "    font-family: \"Source Code Pro\", \"Menlo\", monospace;;\n",
       "    font-size: 13px;\n",
       "    color: #555;\n",
       "    margin-left: 4px;\n",
       "    line-height: 19px;\n",
       "  }\n",
       "</style>\n",
       "<div class=\"ansiout\">\r",
       "0.00B [00:00, ?B/s]\r",
       "  0%|          | 0.00/8.79M [00:00&lt;?, ?B/s]\r",
       "  0%|          | 16.4k/8.79M [00:00&lt;01:14, 118kB/s]\r",
       "  1%|          | 49.2k/8.79M [00:00&lt;01:02, 139kB/s]\r",
       "  1%|          | 106k/8.79M [00:00&lt;00:49, 174kB/s] \r",
       "  3%|▎         | 221k/8.79M [00:00&lt;00:37, 228kB/s]\r",
       "  5%|▌         | 442k/8.79M [00:00&lt;00:27, 306kB/s]\r",
       " 10%|█         | 901k/8.79M [00:01&lt;00:18, 421kB/s]\r",
       " 18%|█▊        | 1.56M/8.79M [00:01&lt;00:12, 579kB/s]\r",
       " 28%|██▊       | 2.48M/8.79M [00:01&lt;00:07, 797kB/s]\r",
       " 38%|███▊      | 3.34M/8.79M [00:01&lt;00:05, 1.08MB/s]\r",
       " 48%|████▊     | 4.21M/8.79M [00:01&lt;00:03, 1.43MB/s]\r",
       " 58%|█████▊    | 5.05M/8.79M [00:01&lt;00:02, 1.86MB/s]\r",
       " 67%|██████▋   | 5.86M/8.79M [00:01&lt;00:01, 2.33MB/s]\r",
       " 76%|███████▌  | 6.66M/8.79M [00:02&lt;00:00, 2.84MB/s]\r",
       " 88%|████████▊ | 7.70M/8.79M [00:02&lt;00:00, 3.48MB/s]\r",
       " 97%|█████████▋| 8.51M/8.79M [00:02&lt;00:00, 3.95MB/s]\r",
       "8.79MB [00:02, 3.69MB/s]                            \n",
       "</div>"
      ]
     },
     "metadata": {},
     "output_type": "display_data"
    }
   ],
   "source": [
    "SIZE = \"sample\"\n",
    "\n",
    "nume_cols = [\"I\" + str(i) for i in range(1, 14)]\n",
    "cate_cols = [\"C\" + str(i) for i in range(1, 27)]\n",
    "label_col = \"Label\"\n",
    "\n",
    "header = [label_col] + nume_cols + cate_cols\n",
    "with TemporaryDirectory() as tmp:\n",
    "    all_data = criteo.load_pandas_df(size=SIZE, local_cache_path=tmp, header=header)"
   ]
  },
  {
   "cell_type": "code",
   "execution_count": 3,
   "metadata": {},
   "outputs": [
    {
     "data": {
      "text/html": [
       "<style scoped>\n",
       "  .ansiout {\n",
       "    display: block;\n",
       "    unicode-bidi: embed;\n",
       "    white-space: pre-wrap;\n",
       "    word-wrap: break-word;\n",
       "    word-break: break-all;\n",
       "    font-family: \"Source Code Pro\", \"Menlo\", monospace;;\n",
       "    font-size: 13px;\n",
       "    color: #555;\n",
       "    margin-left: 4px;\n",
       "    line-height: 19px;\n",
       "  }\n",
       "</style>\n",
       "<div class=\"ansiout\"><span class=\"ansired\">Out[</span><span class=\"ansired\">5</span><span class=\"ansired\">]: </span>\n",
       "   Label   I1   I2    I3    ...          C23       C24       C25       C26\n",
       "0      0 1.00    1  5.00    ...     3a171ecb  c5c50484  e8b83407  9727dd16\n",
       "1      0 2.00    0 44.00    ...     3a171ecb  43f13e8b  e8b83407  731c3655\n",
       "2      0 2.00    0  1.00    ...     3a171ecb  3b183c5c       NaN       NaN\n",
       "3      0  nan  893   nan    ...     3a171ecb  9117a34a       NaN       NaN\n",
       "4      0 3.00   -1   nan    ...     32c7478e  b34f3128       NaN       NaN\n",
       "\n",
       "[5 rows x 40 columns]\n",
       "</div>"
      ]
     },
     "metadata": {},
     "output_type": "display_data"
    }
   ],
   "source": [
    "all_data.head()"
   ]
  },
  {
   "cell_type": "code",
   "execution_count": 4,
   "metadata": {},
   "outputs": [
    {
     "data": {
      "text/html": [
       "<style scoped>\n",
       "  .ansiout {\n",
       "    display: block;\n",
       "    unicode-bidi: embed;\n",
       "    white-space: pre-wrap;\n",
       "    word-wrap: break-word;\n",
       "    word-break: break-all;\n",
       "    font-family: \"Source Code Pro\", \"Menlo\", monospace;;\n",
       "    font-size: 13px;\n",
       "    color: #555;\n",
       "    margin-left: 4px;\n",
       "    line-height: 19px;\n",
       "  }\n",
       "</style>\n",
       "<div class=\"ansiout\"></div>"
      ]
     },
     "metadata": {},
     "output_type": "display_data"
    }
   ],
   "source": [
    "# split data to 3 sets    \n",
    "length = len(all_data)\n",
    "train_data = all_data.loc[:0.8*length-1]\n",
    "valid_data = all_data.loc[0.8*length:0.9*length-1]\n",
    "test_data = all_data.loc[0.9*length:]"
   ]
  },
  {
   "cell_type": "code",
   "execution_count": 5,
   "metadata": {},
   "outputs": [
    {
     "data": {
      "text/html": [
       "<style scoped>\n",
       "  .ansiout {\n",
       "    display: block;\n",
       "    unicode-bidi: embed;\n",
       "    white-space: pre-wrap;\n",
       "    word-wrap: break-word;\n",
       "    word-break: break-all;\n",
       "    font-family: \"Source Code Pro\", \"Menlo\", monospace;;\n",
       "    font-size: 13px;\n",
       "    color: #555;\n",
       "    margin-left: 4px;\n",
       "    line-height: 19px;\n",
       "  }\n",
       "</style>\n",
       "<div class=\"ansiout\">Train Data Shape: X: (80000, 39); Y: (80000,).\n",
       "Valid Data Shape: X: (10000, 39); Y: (10000,).\n",
       "Test Data Shape: X: (10000, 39); Y: (10000,).\n",
       "\n",
       "</div>"
      ]
     },
     "metadata": {},
     "output_type": "display_data"
    }
   ],
   "source": [
    "ord_encoder = ce.ordinal.OrdinalEncoder(cols=cate_cols)\n",
    "\n",
    "def encode_csv(df, encoder, label_col, typ='fit'):\n",
    "    if typ == 'fit':\n",
    "        df = encoder.fit_transform(df)\n",
    "    else:\n",
    "        df = encoder.transform(df)\n",
    "    y = df[label_col].values\n",
    "    del df[label_col]\n",
    "    return df, y\n",
    "\n",
    "train_x, train_y = encode_csv(train_data, ord_encoder, label_col)\n",
    "valid_x, valid_y = encode_csv(valid_data, ord_encoder, label_col, 'transform')\n",
    "test_x, test_y = encode_csv(test_data, ord_encoder, label_col, 'transform')\n",
    "\n",
    "print('Train Data Shape: X: {trn_x_shape}; Y: {trn_y_shape}.\\nValid Data Shape: X: {vld_x_shape}; Y: {vld_y_shape}.\\nTest Data Shape: X: {tst_x_shape}; Y: {tst_y_shape}.\\n'\n",
    "      .format(trn_x_shape=train_x.shape,\n",
    "              trn_y_shape=train_y.shape,\n",
    "              vld_x_shape=valid_x.shape,\n",
    "              vld_y_shape=valid_y.shape,\n",
    "              tst_x_shape=test_x.shape,\n",
    "              tst_y_shape=test_y.shape,))"
   ]
  },
  {
   "cell_type": "code",
   "execution_count": 6,
   "metadata": {},
   "outputs": [
    {
     "data": {
      "text/html": [
       "<style scoped>\n",
       "  .ansiout {\n",
       "    display: block;\n",
       "    unicode-bidi: embed;\n",
       "    white-space: pre-wrap;\n",
       "    word-wrap: break-word;\n",
       "    word-break: break-all;\n",
       "    font-family: \"Source Code Pro\", \"Menlo\", monospace;;\n",
       "    font-size: 13px;\n",
       "    color: #555;\n",
       "    margin-left: 4px;\n",
       "    line-height: 19px;\n",
       "  }\n",
       "</style>\n",
       "<div class=\"ansiout\"></div>"
      ]
     },
     "metadata": {},
     "output_type": "display_data"
    }
   ],
   "source": [
    "subscription_id = \"your_subscription_id\" #you should be owner or contributor\n",
    "resource_group = \"your_rg\" #you should be owner or contributor\n",
    "workspace_name = \"automl-aml-ws\" #your workspace name\n",
    "workspace_region = \"westus2\" #your region"
   ]
  },
  {
   "cell_type": "code",
   "execution_count": 7,
   "metadata": {},
   "outputs": [
    {
     "data": {
      "text/html": [
       "<style scoped>\n",
       "  .ansiout {\n",
       "    display: block;\n",
       "    unicode-bidi: embed;\n",
       "    white-space: pre-wrap;\n",
       "    word-wrap: break-word;\n",
       "    word-break: break-all;\n",
       "    font-family: \"Source Code Pro\", \"Menlo\", monospace;;\n",
       "    font-size: 13px;\n",
       "    color: #555;\n",
       "    margin-left: 4px;\n",
       "    line-height: 19px;\n",
       "  }\n",
       "</style>\n",
       "<div class=\"ansiout\">Deploying StorageAccount with name nikhiljastoragejaconxoa.\n",
       "Deploying ContainerRegistry with name nikhiljaacroorbxmro.\n",
       "Deployed ContainerRegistry with name nikhiljaacroorbxmro.\n",
       "Deploying AppInsights with name nikhiljainsightsxtpjewom.\n",
       "Deployed AppInsights with name nikhiljainsightsxtpjewom.\n",
       "Deploying KeyVault with name nikhiljakeyvaultqpzgqmmc.\n",
       "Deployed KeyVault with name nikhiljakeyvaultqpzgqmmc.\n",
       "Deployed StorageAccount with name nikhiljastoragejaconxoa.\n",
       "Deploying Workspace with name nikhilj-aml-ws.\n",
       "Deployed Workspace with name nikhilj-aml-ws.\n",
       "<span class=\"ansired\">Out[</span><span class=\"ansired\">16</span><span class=\"ansired\">]: </span>\n",
       "{&apos;identityPrincipalId&apos;: &apos;116ed18d-1033-43bf-9537-f14cab4bf153&apos;,\n",
       " &apos;creationTime&apos;: &apos;2019-03-22T23:19:17.3297990+00:00&apos;,\n",
       " &apos;description&apos;: &apos;&apos;,\n",
       " &apos;friendlyName&apos;: &apos;nikhilj-aml-ws&apos;,\n",
       " &apos;keyVault&apos;: &apos;/subscriptions/e91107f8-bd8c-4517-8c8b-14879a7dbec4/resourcegroups/nikhilj/providers/microsoft.keyvault/vaults/nikhiljakeyvaultqpzgqmmc&apos;,\n",
       " &apos;workspaceid&apos;: &apos;7ebdf7b2-80a7-48cc-8150-c0509730255a&apos;,\n",
       " &apos;identityTenantId&apos;: &apos;72f988bf-86f1-41af-91ab-2d7cd011db47&apos;,\n",
       " &apos;id&apos;: &apos;/subscriptions/e91107f8-bd8c-4517-8c8b-14879a7dbec4/resourceGroups/nikhilj/providers/Microsoft.MachineLearningServices/workspaces/nikhilj-aml-ws&apos;,\n",
       " &apos;applicationInsights&apos;: &apos;/subscriptions/e91107f8-bd8c-4517-8c8b-14879a7dbec4/resourcegroups/nikhilj/providers/microsoft.insights/components/nikhiljainsightsxtpjewom&apos;,\n",
       " &apos;identityType&apos;: &apos;SystemAssigned&apos;,\n",
       " &apos;storageAccount&apos;: &apos;/subscriptions/e91107f8-bd8c-4517-8c8b-14879a7dbec4/resourcegroups/nikhilj/providers/microsoft.storage/storageaccounts/nikhiljastoragejaconxoa&apos;,\n",
       " &apos;type&apos;: &apos;Microsoft.MachineLearningServices/workspaces&apos;,\n",
       " &apos;containerRegistry&apos;: &apos;/subscriptions/e91107f8-bd8c-4517-8c8b-14879a7dbec4/resourcegroups/nikhilj/providers/microsoft.containerregistry/registries/nikhiljaacroorbxmro&apos;,\n",
       " &apos;name&apos;: &apos;nikhilj-aml-ws&apos;,\n",
       " &apos;location&apos;: &apos;westus2&apos;}\n",
       "</div>"
      ]
     },
     "metadata": {},
     "output_type": "display_data"
    }
   ],
   "source": [
    "ws = Workspace.create(name = workspace_name,\n",
    "                      subscription_id = subscription_id,\n",
    "                      resource_group = resource_group, \n",
    "                      location = workspace_region,                      \n",
    "                      exist_ok=True)\n",
    "ws.get_details()"
   ]
  },
  {
   "cell_type": "code",
   "execution_count": 8,
   "metadata": {},
   "outputs": [
    {
     "data": {
      "text/html": [
       "<style scoped>\n",
       "  .ansiout {\n",
       "    display: block;\n",
       "    unicode-bidi: embed;\n",
       "    white-space: pre-wrap;\n",
       "    word-wrap: break-word;\n",
       "    word-break: break-all;\n",
       "    font-family: \"Source Code Pro\", \"Menlo\", monospace;;\n",
       "    font-size: 13px;\n",
       "    color: #555;\n",
       "    margin-left: 4px;\n",
       "    line-height: 19px;\n",
       "  }\n",
       "</style>\n",
       "<div class=\"ansiout\"></div>"
      ]
     },
     "metadata": {},
     "output_type": "display_data"
    }
   ],
   "source": [
    "X_dflow = dprep.read_pandas_dataframe(train_x, temp_folder='/dbfs/tmp'+str(uuid.uuid4()))\n",
    "y_dflow = dprep.read_pandas_dataframe(pd.DataFrame(train_y, columns=[\"Label\"]), temp_folder='/dbfs/tmp'+str(uuid.uuid4()))"
   ]
  },
  {
   "cell_type": "code",
   "execution_count": 9,
   "metadata": {},
   "outputs": [
    {
     "data": {
      "text/html": [
       "<style scoped>\n",
       "  .ansiout {\n",
       "    display: block;\n",
       "    unicode-bidi: embed;\n",
       "    white-space: pre-wrap;\n",
       "    word-wrap: break-word;\n",
       "    word-break: break-all;\n",
       "    font-family: \"Source Code Pro\", \"Menlo\", monospace;;\n",
       "    font-size: 13px;\n",
       "    color: #555;\n",
       "    margin-left: 4px;\n",
       "    line-height: 19px;\n",
       "  }\n",
       "</style>\n",
       "<div class=\"ansiout\"><span class=\"ansired\">Out[</span><span class=\"ansired\">30</span><span class=\"ansired\">]: </span>\n",
       "ColumnProfile:\n",
       "    column_name: Label\n",
       "    type: FieldType.INTEGER\n",
       "\n",
       "    min: 0.0\n",
       "    max: 1.0\n",
       "    count: 80000.0\n",
       "    missing_count: 0.0\n",
       "    not_missing_count: 80000.0\n",
       "    percent_missing: 0.0\n",
       "    error_count: 0.0\n",
       "    empty_count: 0.0\n",
       "\n",
       "\n",
       "    Quantiles:\n",
       "         0.1%: 0.0\n",
       "           1%: 0.0\n",
       "           5%: 0.0\n",
       "          25%: 0.0\n",
       "          50%: 0.0\n",
       "          75%: 0.0\n",
       "          95%: 1.0\n",
       "          99%: 1.0\n",
       "        99.9%: 1.0\n",
       "\n",
       "    mean: 0.2244750000000003\n",
       "    std: 0.41723872120990974\n",
       "    variance: 0.17408815047688078\n",
       "    skewness: 1.3206902520386534\n",
       "    kurtosis: -0.2557804549570242\n",
       "</div>"
      ]
     },
     "metadata": {},
     "output_type": "display_data"
    }
   ],
   "source": [
    "y_dflow.get_profile()"
   ]
  },
  {
   "cell_type": "markdown",
   "metadata": {},
   "source": [
    "## Configure Automated ML\n",
    "\n",
    "You can use these params.\n",
    "\n",
    "|Property|Description|\n",
    "|-|-|\n",
    "|**task**|classification or regression|\n",
    "|**primary_metric**|This is the metric that you want to optimize. Classification supports the following primary metrics: <br><i>accuracy</i><br><i>AUC_weighted</i><br><i>average_precision_score_weighted</i><br><i>norm_macro_recall</i><br><i>precision_score_weighted</i>|\n",
    "|**primary_metric**|This is the metric that you want to optimize. Regression supports the following primary metrics: <br><i>spearman_correlation</i><br><i>normalized_root_mean_squared_error</i><br><i>r2_score</i><br><i>normalized_mean_absolute_error</i>|\n",
    "|**iteration_timeout_minutes**|Time limit in minutes for each iteration.|\n",
    "|**iterations**|Number of iterations. In each iteration AutoML trains a specific pipeline with the data.|\n",
    "|**n_cross_validations**|Number of cross validation splits.|\n",
    "|**spark_context**|Spark Context object. for Databricks, use spark_context=sc|\n",
    "|**max_concurrent_iterations**|Maximum number of iterations to execute in parallel. This should be <= number of worker nodes in your Azure Databricks cluster.|\n",
    "|**X**|(sparse) array-like, shape = [n_samples, n_features]|\n",
    "|**y**|(sparse) array-like, shape = [n_samples, ], [n_samples, n_classes]<br>Multi-class targets. An indicator matrix turns on multilabel classification. This should be an array of integers.|\n",
    "|**path**|Relative path to the project folder. AutoML stores configuration files for the experiment under this folder. You can specify a new empty folder.|\n",
    "|**preprocess**|set this to True to enable pre-processing of data eg. string to numeric using one-hot encoding|\n",
    "|**exit_score**|Target score for experiment. It is associated with the metric. eg. exit_score=0.995 will exit experiment after that|"
   ]
  },
  {
   "cell_type": "code",
   "execution_count": 11,
   "metadata": {},
   "outputs": [
    {
     "data": {
      "text/html": [
       "<style scoped>\n",
       "  .ansiout {\n",
       "    display: block;\n",
       "    unicode-bidi: embed;\n",
       "    white-space: pre-wrap;\n",
       "    word-wrap: break-word;\n",
       "    word-break: break-all;\n",
       "    font-family: \"Source Code Pro\", \"Menlo\", monospace;;\n",
       "    font-size: 13px;\n",
       "    color: #555;\n",
       "    margin-left: 4px;\n",
       "    line-height: 19px;\n",
       "  }\n",
       "</style>\n",
       "<div class=\"ansiout\"><span class=\"ansired\">Out[</span><span class=\"ansired\">34</span><span class=\"ansired\">]: </span>\n",
       "                                                       \n",
       "Experiment Name    automl-criteo                       \n",
       "Location           westus2                             \n",
       "Project Directory  ./sample_projects/automl-criteo     \n",
       "Resource Group     nikhilj                             \n",
       "SDK version        1.0.18                              \n",
       "Subscription ID    e91107f8-bd8c-4517-8c8b-14879a7dbec4\n",
       "Workspace Name     nikhilj-aml-ws                      \n",
       "</div>"
      ]
     },
     "metadata": {},
     "output_type": "display_data"
    }
   ],
   "source": [
    "# Choose a name for the experiment and specify the project folder.\n",
    "experiment_name = 'automl-criteo'\n",
    "project_folder = './sample_projects/automl-criteo'\n",
    "\n",
    "experiment = Experiment(ws, experiment_name)\n",
    "\n",
    "output = {}\n",
    "output['SDK version'] = azureml.core.VERSION\n",
    "output['Subscription ID'] = ws.subscription_id\n",
    "output['Workspace Name'] = ws.name\n",
    "output['Resource Group'] = ws.resource_group\n",
    "output['Location'] = ws.location\n",
    "output['Project Directory'] = project_folder\n",
    "output['Experiment Name'] = experiment.name\n",
    "pd.set_option('display.max_colwidth', -1)\n",
    "pd.DataFrame(data = output, index = ['']).T"
   ]
  },
  {
   "cell_type": "code",
   "execution_count": 12,
   "metadata": {},
   "outputs": [
    {
     "data": {
      "text/html": [
       "<style scoped>\n",
       "  .ansiout {\n",
       "    display: block;\n",
       "    unicode-bidi: embed;\n",
       "    white-space: pre-wrap;\n",
       "    word-wrap: break-word;\n",
       "    word-break: break-all;\n",
       "    font-family: \"Source Code Pro\", \"Menlo\", monospace;;\n",
       "    font-size: 13px;\n",
       "    color: #555;\n",
       "    margin-left: 4px;\n",
       "    line-height: 19px;\n",
       "  }\n",
       "</style>\n",
       "<div class=\"ansiout\"></div>"
      ]
     },
     "metadata": {},
     "output_type": "display_data"
    }
   ],
   "source": [
    "automl_config = AutoMLConfig(task = 'classification',\n",
    "                             debug_log = 'automl_errors_regression.log',\n",
    "                             primary_metric = 'AUC_weighted',\n",
    "                             iteration_timeout_minutes = 60, #some runs may take 10+ mins hence limiting it for workshop\n",
    "                             iterations = 30, #you may change this to a higher number and see what happens\n",
    "                             #validation_size = 0.20, #for large datasets only and not needed for workshop\n",
    "                             verbosity = logging.INFO,\n",
    "                             max_concurrent_iterations = 2, #change it based on number of worker nodes\n",
    "                             spark_context=sc, #databricks/spark related\n",
    "                             n_cross_validations = 3, #(only needed for small datasets and if validation size is not set)\n",
    "                             X = X_dflow,\n",
    "                             y = y_dflow,\n",
    "                             preprocess=True, #preprocess\n",
    "                             path = project_folder)"
   ]
  },
  {
   "cell_type": "code",
   "execution_count": 13,
   "metadata": {},
   "outputs": [
    {
     "data": {
      "text/html": [
       "<style scoped>\n",
       "  .ansiout {\n",
       "    display: block;\n",
       "    unicode-bidi: embed;\n",
       "    white-space: pre-wrap;\n",
       "    word-wrap: break-word;\n",
       "    word-break: break-all;\n",
       "    font-family: \"Source Code Pro\", \"Menlo\", monospace;;\n",
       "    font-size: 13px;\n",
       "    color: #555;\n",
       "    margin-left: 4px;\n",
       "    line-height: 19px;\n",
       "  }\n",
       "</style>\n",
       "<div class=\"ansiout\"></div>"
      ]
     },
     "metadata": {},
     "output_type": "display_data"
    }
   ],
   "source": [
    "local_run = experiment.submit(automl_config, show_output = False) # for higher runs please use show_output=False and use the below"
   ]
  },
  {
   "cell_type": "code",
   "execution_count": 14,
   "metadata": {},
   "outputs": [
    {
     "data": {
      "text/html": [
       "<a href=https://mlworkspace.azure.ai/portal/subscriptions/e91107f8-bd8c-4517-8c8b-14879a7dbec4/resourceGroups/nikhilj/providers/Microsoft.MachineLearningServices/workspaces/nikhilj-aml-ws/experiments/automl-criteo/runs/AutoML_31318b27-767c-4aa4-a97b-f9e851fe17de target='_blank'>Your experiment in Azure Portal: AutoML_31318b27-767c-4aa4-a97b-f9e851fe17de</a>"
      ]
     },
     "metadata": {},
     "output_type": "display_data"
    }
   ],
   "source": [
    "displayHTML(\"<a href={} target='_blank'>Your experiment in Azure Portal: {}</a>\".format(local_run.get_portal_url(), local_run.id))"
   ]
  },
  {
   "cell_type": "code",
   "execution_count": 15,
   "metadata": {},
   "outputs": [],
   "source": []
  }
 ],
 "metadata": {
  "kernelspec": {
   "display_name": "Python 3",
   "language": "python",
   "name": "python3"
  },
  "language_info": {
   "codemirror_mode": {
    "name": "ipython",
    "version": 3
   },
   "file_extension": ".py",
   "mimetype": "text/x-python",
   "name": "python",
   "nbconvert_exporter": "python",
   "pygments_lexer": "ipython3",
   "version": "3.6.8"
  },
  "name": "automl_criteo",
  "notebookId": 2109089316812856
 },
 "nbformat": 4,
 "nbformat_minor": 1
}
